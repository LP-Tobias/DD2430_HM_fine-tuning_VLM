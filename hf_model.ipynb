{
 "cells": [
  {
   "cell_type": "code",
   "execution_count": 1,
   "metadata": {},
   "outputs": [],
   "source": [
    "from PIL import Image\n",
    "import requests\n",
    "from transformers import CLIPProcessor, CLIPModel\n",
    "import torch\n",
    "import pandas as pd\n",
    "from src import util"
   ]
  },
  {
   "cell_type": "code",
   "execution_count": 2,
   "metadata": {},
   "outputs": [
    {
     "name": "stderr",
     "output_type": "stream",
     "text": [
      "/home/user/miniforge3/envs/hf/lib/python3.12/site-packages/transformers/tokenization_utils_base.py:1601: FutureWarning: `clean_up_tokenization_spaces` was not set. It will be set to `True` by default. This behavior will be depracted in transformers v4.45, and will be then set to `False` by default. For more details check this issue: https://github.com/huggingface/transformers/issues/31884\n",
      "  warnings.warn(\n"
     ]
    }
   ],
   "source": [
    "device = \"cuda\" if torch.cuda.is_available() else \"cpu\"\n",
    "model = CLIPModel.from_pretrained(\"openai/clip-vit-base-patch32\").to(device)\n",
    "processor = CLIPProcessor.from_pretrained(\"openai/clip-vit-base-patch32\")"
   ]
  },
  {
   "cell_type": "code",
   "execution_count": 3,
   "metadata": {},
   "outputs": [
    {
     "name": "stdout",
     "output_type": "stream",
     "text": [
      "Number of parameters: 151277313\n"
     ]
    }
   ],
   "source": [
    "# number of parameters\n",
    "print(f\"Number of parameters: {model.num_parameters()}\")"
   ]
  },
  {
   "cell_type": "code",
   "execution_count": 4,
   "metadata": {},
   "outputs": [],
   "source": [
    "data_dir = \"data\"\n",
    "articles = pd.read_csv(f\"{data_dir}/articles.csv\")\n",
    "# customers = pd.read_csv(f\"{data_dir}/customers.csv\")\n",
    "# transactions = pd.read_csv(f\"{data_dir}/transactions_train.csv\")"
   ]
  },
  {
   "cell_type": "code",
   "execution_count": 5,
   "metadata": {},
   "outputs": [
    {
     "data": {
      "text/html": [
       "<div>\n",
       "<style scoped>\n",
       "    .dataframe tbody tr th:only-of-type {\n",
       "        vertical-align: middle;\n",
       "    }\n",
       "\n",
       "    .dataframe tbody tr th {\n",
       "        vertical-align: top;\n",
       "    }\n",
       "\n",
       "    .dataframe thead th {\n",
       "        text-align: right;\n",
       "    }\n",
       "</style>\n",
       "<table border=\"1\" class=\"dataframe\">\n",
       "  <thead>\n",
       "    <tr style=\"text-align: right;\">\n",
       "      <th></th>\n",
       "      <th>article_id</th>\n",
       "      <th>product_code</th>\n",
       "      <th>prod_name</th>\n",
       "      <th>product_type_no</th>\n",
       "      <th>product_type_name</th>\n",
       "      <th>product_group_name</th>\n",
       "      <th>graphical_appearance_no</th>\n",
       "      <th>graphical_appearance_name</th>\n",
       "      <th>colour_group_code</th>\n",
       "      <th>colour_group_name</th>\n",
       "      <th>...</th>\n",
       "      <th>department_name</th>\n",
       "      <th>index_code</th>\n",
       "      <th>index_name</th>\n",
       "      <th>index_group_no</th>\n",
       "      <th>index_group_name</th>\n",
       "      <th>section_no</th>\n",
       "      <th>section_name</th>\n",
       "      <th>garment_group_no</th>\n",
       "      <th>garment_group_name</th>\n",
       "      <th>detail_desc</th>\n",
       "    </tr>\n",
       "  </thead>\n",
       "  <tbody>\n",
       "    <tr>\n",
       "      <th>0</th>\n",
       "      <td>108775015</td>\n",
       "      <td>108775</td>\n",
       "      <td>Strap top</td>\n",
       "      <td>253</td>\n",
       "      <td>Vest top</td>\n",
       "      <td>Garment Upper body</td>\n",
       "      <td>1010016</td>\n",
       "      <td>Solid</td>\n",
       "      <td>9</td>\n",
       "      <td>Black</td>\n",
       "      <td>...</td>\n",
       "      <td>Jersey Basic</td>\n",
       "      <td>A</td>\n",
       "      <td>Ladieswear</td>\n",
       "      <td>1</td>\n",
       "      <td>Ladieswear</td>\n",
       "      <td>16</td>\n",
       "      <td>Womens Everyday Basics</td>\n",
       "      <td>1002</td>\n",
       "      <td>Jersey Basic</td>\n",
       "      <td>Jersey top with narrow shoulder straps.</td>\n",
       "    </tr>\n",
       "  </tbody>\n",
       "</table>\n",
       "<p>1 rows × 25 columns</p>\n",
       "</div>"
      ],
      "text/plain": [
       "   article_id  product_code  prod_name  product_type_no product_type_name  \\\n",
       "0   108775015        108775  Strap top              253          Vest top   \n",
       "\n",
       "   product_group_name  graphical_appearance_no graphical_appearance_name  \\\n",
       "0  Garment Upper body                  1010016                     Solid   \n",
       "\n",
       "   colour_group_code colour_group_name  ...  department_name index_code  \\\n",
       "0                  9             Black  ...     Jersey Basic          A   \n",
       "\n",
       "   index_name index_group_no  index_group_name section_no  \\\n",
       "0  Ladieswear              1        Ladieswear         16   \n",
       "\n",
       "             section_name garment_group_no  garment_group_name  \\\n",
       "0  Womens Everyday Basics             1002        Jersey Basic   \n",
       "\n",
       "                               detail_desc  \n",
       "0  Jersey top with narrow shoulder straps.  \n",
       "\n",
       "[1 rows x 25 columns]"
      ]
     },
     "execution_count": 5,
     "metadata": {},
     "output_type": "execute_result"
    }
   ],
   "source": [
    "articles.head(1)"
   ]
  },
  {
   "cell_type": "code",
   "execution_count": 6,
   "metadata": {},
   "outputs": [
    {
     "name": "stdout",
     "output_type": "stream",
     "text": [
      "product group names\n",
      "\n",
      "['Garment Upper body' 'Underwear' 'Socks & Tights' 'Garment Lower body'\n",
      " 'Accessories' 'Items' 'Nightwear' 'Unknown' 'Underwear/nightwear' 'Shoes'\n",
      " 'Swimwear' 'Garment Full body' 'Cosmetic' 'Interior textile' 'Bags'\n",
      " 'Furniture' 'Garment and Shoe care' 'Fun' 'Stationery']\n",
      "\n",
      "Top predictions of product_group_name:\n",
      "\n",
      "Garment Upper body: 0.4556\n",
      "Nightwear: 0.1890\n",
      "Garment Lower body: 0.1040\n",
      "Garment Full body: 0.0965\n",
      "Underwear/nightwear: 0.0912\n"
     ]
    }
   ],
   "source": [
    "# organizing all product_group_name in a list\n",
    "print(\"product group names\\n\")\n",
    "product_group_name = articles['product_group_name'].unique()\n",
    "print(product_group_name)\n",
    "\n",
    "image_path = f\"{data_dir}/images/010/0108775015.jpg\"\n",
    "image = Image.open(image_path)\n",
    "\n",
    "probs = util.hf_clip_predict(model, processor, product_group_name, image)\n",
    "probs = probs.to(\"cpu\")\n",
    "\n",
    "# # Pick the top 5 most similar labels for the image\n",
    "values, indices = torch.topk(probs, 5)\n",
    "values = values.squeeze().to(\"cpu\")\n",
    "indices = indices.squeeze().to(\"cpu\")\n",
    "\n",
    "# Print the result\n",
    "print(\"\\nTop predictions of product_group_name:\\n\")\n",
    "for value, index in zip(values, indices):\n",
    "    print(f\"{product_group_name[index]}: {value:.4f}\")"
   ]
  },
  {
   "cell_type": "code",
   "execution_count": 7,
   "metadata": {},
   "outputs": [
    {
     "name": "stdout",
     "output_type": "stream",
     "text": [
      "article_id: 105542\n",
      "product_code: 47224\n",
      "prod_name: 45875\n",
      "product_type_no: 132\n",
      "product_type_name: 131\n",
      "product_group_name: 19\n",
      "graphical_appearance_no: 30\n",
      "graphical_appearance_name: 30\n",
      "colour_group_code: 50\n",
      "colour_group_name: 50\n",
      "perceived_colour_value_id: 8\n",
      "perceived_colour_value_name: 8\n",
      "perceived_colour_master_id: 20\n",
      "perceived_colour_master_name: 20\n",
      "department_no: 299\n",
      "department_name: 250\n",
      "index_code: 10\n",
      "index_name: 10\n",
      "index_group_no: 5\n",
      "index_group_name: 5\n",
      "section_no: 57\n",
      "section_name: 56\n",
      "garment_group_no: 21\n",
      "garment_group_name: 21\n",
      "detail_desc: 43405\n"
     ]
    }
   ],
   "source": [
    "# get all classes of the dataframe\n",
    "class_names = articles.columns.tolist()\n",
    "label_names = dict()\n",
    "for class_name in class_names:\n",
    "    label_names[class_name] = articles[class_name].unique()\n",
    "    print(f\"{class_name}: {len(label_names[class_name])}\")\n",
    "article_ids = label_names[\"article_id\"]"
   ]
  },
  {
   "cell_type": "code",
   "execution_count": 8,
   "metadata": {},
   "outputs": [
    {
     "name": "stdout",
     "output_type": "stream",
     "text": [
      "len(images)=105100\n"
     ]
    }
   ],
   "source": [
    "# images, image_ids = util.get_images_recursive(data_dir=\"data\")\n",
    "images, image_ids = util.get_images_from_ids(data_dir=\"data\", article_ids=article_ids)\n",
    "print(f\"{len(images)=}\")"
   ]
  },
  {
   "cell_type": "code",
   "execution_count": 26,
   "metadata": {},
   "outputs": [],
   "source": [
    "max_bs = 128\n",
    "probs = util.hf_clip_predict(model, processor, product_group_name, images[:max_bs]).to(\"cpu\")\n",
    "values, indices = torch.topk(probs, k=5, dim=1)"
   ]
  },
  {
   "cell_type": "code",
   "execution_count": 27,
   "metadata": {},
   "outputs": [
    {
     "name": "stdout",
     "output_type": "stream",
     "text": [
      "Garment Upper body: 0.4556\n",
      "Nightwear: 0.1890\n",
      "Garment Lower body: 0.1040\n",
      "Garment Full body: 0.0965\n",
      "Underwear/nightwear: 0.0912\n"
     ]
    }
   ],
   "source": [
    "for i in indices[0]:\n",
    "    print(f\"{product_group_name[i]}: {probs[0][i]:.4f}\")"
   ]
  }
 ],
 "metadata": {
  "kernelspec": {
   "display_name": "hf",
   "language": "python",
   "name": "python3"
  },
  "language_info": {
   "codemirror_mode": {
    "name": "ipython",
    "version": 3
   },
   "file_extension": ".py",
   "mimetype": "text/x-python",
   "name": "python",
   "nbconvert_exporter": "python",
   "pygments_lexer": "ipython3",
   "version": "3.12.5"
  }
 },
 "nbformat": 4,
 "nbformat_minor": 2
}
